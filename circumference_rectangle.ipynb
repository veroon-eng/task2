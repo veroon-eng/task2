{
 "cells": [
  {
   "cell_type": "code",
   "execution_count": 1,
   "metadata": {},
   "outputs": [
    {
     "name": "stdout",
     "output_type": "stream",
     "text": [
      "thi is a pogram to calculte the circumference of a rectangle\n",
      "please, enter the length: 6\n",
      "please, enter the width: 4\n",
      "rectangle circumference is: \n",
      "20\n"
     ]
    }
   ],
   "source": [
    "print(\"thi is a pogram to calculte the circumference of a rectangle\")\n",
    "l=int(input(\"please, enter the length: \"))\n",
    "w=int(input(\"please, enter the width: \"))\n",
    "cir_rec=(l+w)*2\n",
    "print(\"rectangle circumference is: \")\n",
    "print(cir_rec)\n"
   ]
  },
  {
   "cell_type": "code",
   "execution_count": null,
   "metadata": {},
   "outputs": [],
   "source": []
  }
 ],
 "metadata": {
  "kernelspec": {
   "display_name": "Python 3",
   "language": "python",
   "name": "python3"
  },
  "language_info": {
   "codemirror_mode": {
    "name": "ipython",
    "version": 3
   },
   "file_extension": ".py",
   "mimetype": "text/x-python",
   "name": "python",
   "nbconvert_exporter": "python",
   "pygments_lexer": "ipython3",
   "version": "3.8.5"
  }
 },
 "nbformat": 4,
 "nbformat_minor": 4
}
