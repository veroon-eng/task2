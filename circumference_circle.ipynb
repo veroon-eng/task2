{
 "cells": [
  {
   "cell_type": "code",
   "execution_count": null,
   "metadata": {},
   "outputs": [
    {
     "name": "stdout",
     "output_type": "stream",
     "text": [
      "this is a program to alculate the circumference\n"
     ]
    }
   ],
   "source": [
    "print(\"this is a program to alculate the circumference\")\n",
    "r=int(input(\"please,enter the radious\"))\n",
    "circumference_ciecle=2*3.14*r\n",
    "print(\"circumference is \"  )\n",
    "print(circumference_ciecle)\n"
   ]
  },
  {
   "cell_type": "code",
   "execution_count": null,
   "metadata": {},
   "outputs": [],
   "source": []
  }
 ],
 "metadata": {
  "kernelspec": {
   "display_name": "Python 3",
   "language": "python",
   "name": "python3"
  },
  "language_info": {
   "codemirror_mode": {
    "name": "ipython",
    "version": 3
   },
   "file_extension": ".py",
   "mimetype": "text/x-python",
   "name": "python",
   "nbconvert_exporter": "python",
   "pygments_lexer": "ipython3",
   "version": "3.8.5"
  }
 },
 "nbformat": 4,
 "nbformat_minor": 4
}
